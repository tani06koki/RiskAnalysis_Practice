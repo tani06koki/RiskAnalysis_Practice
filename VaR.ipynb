{
 "cells": [
  {
   "cell_type": "markdown",
   "metadata": {},
   "source": [
    "# Risk Analysis of an equally weighted portfolio by the three methods of VaR"
   ]
  },
  {
   "cell_type": "markdown",
   "metadata": {},
   "source": [
    "## Introduction\n",
    "This report shows my practice to calculate VaR of 5 securities as below via yfinance module.\n",
    "- SPY: SPDR S&P 500 ETF Trust\n",
    "- BND: Vanguard Total Bond Market ETF\n",
    "- GLD: SPDR Gold Shares\n",
    "- QQQ: Invesco QQQ Trust\n",
    "- VTI; Vanguard Total Stock Market ETF\n"
   ]
  },
  {
   "cell_type": "markdown",
   "metadata": {},
   "source": [
    "## Histrical Method\n",
    "Import necessary libraries"
   ]
  },
  {
   "cell_type": "code",
   "execution_count": 84,
   "metadata": {},
   "outputs": [],
   "source": [
    "import numpy as np\n",
    "import pandas as pd\n",
    "import datetime as dt\n",
    "import yfinance as yf\n",
    "import matplotlib.pyplot as plt\n",
    "from scipy.stats import norm"
   ]
  },
  {
   "cell_type": "markdown",
   "metadata": {},
   "source": []
  },
  {
   "cell_type": "markdown",
   "metadata": {},
   "source": [
    "Set time from to a certain number of years"
   ]
  },
  {
   "cell_type": "code",
   "execution_count": 85,
   "metadata": {},
   "outputs": [],
   "source": [
    "years = 10\n",
    "\n",
    "endDate = dt.datetime.now()\n",
    "startDate = endDate -dt.timedelta(days = 365*years)"
   ]
  },
  {
   "cell_type": "markdown",
   "metadata": {},
   "source": [
    "### Create a list of tickers"
   ]
  },
  {
   "cell_type": "code",
   "execution_count": 86,
   "metadata": {},
   "outputs": [],
   "source": [
    "tickers = ['SPY', 'BND','GLD','QQQ', 'VTI']"
   ]
  },
  {
   "cell_type": "markdown",
   "metadata": {},
   "source": [
    "### Download the daily for tickers\n",
    "We utilise the adjusted closed prices since they account for dividends stock splits"
   ]
  },
  {
   "cell_type": "code",
   "execution_count": 87,
   "metadata": {},
   "outputs": [
    {
     "name": "stderr",
     "output_type": "stream",
     "text": [
      "[*********************100%***********************]  1 of 1 completed\n",
      "[*********************100%***********************]  1 of 1 completed\n",
      "[*********************100%***********************]  1 of 1 completed\n",
      "[*********************100%***********************]  1 of 1 completed\n",
      "[*********************100%***********************]  1 of 1 completed"
     ]
    },
    {
     "name": "stdout",
     "output_type": "stream",
     "text": [
      "                   SPY        BND         GLD         QQQ         VTI\n",
      "Date                                                                 \n",
      "2014-11-21  173.271179  62.603676  115.389999   95.923409   89.363525\n",
      "2014-11-24  173.757385  62.611248  115.110001   96.671417   89.691147\n",
      "2014-11-25  173.631638  62.725147  115.379997   96.819168   89.674339\n",
      "2014-11-26  174.076019  62.816269  115.160004   97.447151   89.875984\n",
      "2014-11-28  173.707123  62.922573  112.110001   97.899666   89.556740\n",
      "...                ...        ...         ...         ...         ...\n",
      "2024-11-11  598.760010  72.949997  242.139999  513.840027  297.540009\n",
      "2024-11-12  596.900024  72.510002  240.050003  512.909973  296.369995\n",
      "2024-11-13  597.190002  72.480003  237.630005  512.250000  296.230011\n",
      "2024-11-14  593.349976  72.459999  237.009995  508.690002  294.040009\n",
      "2024-11-15  585.750000  72.480003  236.589996  496.570007  290.309998\n",
      "\n",
      "[2513 rows x 5 columns]\n"
     ]
    },
    {
     "name": "stderr",
     "output_type": "stream",
     "text": [
      "\n"
     ]
    }
   ],
   "source": [
    "adj_close_df = pd.DataFrame()\n",
    "\n",
    "for ticker in tickers:\n",
    "    data = yf.download(ticker, start = startDate, end = endDate)\n",
    "    adj_close_df[ticker] = data['Adj Close']\n",
    "    \n",
    "print(adj_close_df)\n",
    "    "
   ]
  },
  {
   "cell_type": "markdown",
   "metadata": {},
   "source": [
    "### Calculate the daily log returns"
   ]
  },
  {
   "cell_type": "code",
   "execution_count": 88,
   "metadata": {},
   "outputs": [
    {
     "name": "stdout",
     "output_type": "stream",
     "text": [
      "                 SPY       BND       GLD       QQQ       VTI\n",
      "Date                                                        \n",
      "2014-11-21       NaN       NaN       NaN       NaN       NaN\n",
      "2014-11-24  0.002802  0.000121 -0.002429  0.007768  0.003659\n",
      "2014-11-25 -0.000724  0.001817  0.002343  0.001527 -0.000187\n",
      "2014-11-26  0.002556  0.001452 -0.001909  0.006465  0.002246\n",
      "2014-11-28 -0.002121  0.001691 -0.026842  0.004633 -0.003558\n",
      "...              ...       ...       ...       ...       ...\n",
      "2024-11-11  0.000952 -0.001917 -0.023751 -0.000584  0.002793\n",
      "2024-11-12 -0.003111 -0.006050 -0.008669 -0.001812 -0.003940\n",
      "2024-11-13  0.000486 -0.000414 -0.010132 -0.001288 -0.000472\n",
      "2024-11-14 -0.006451 -0.000276 -0.002613 -0.006974 -0.007420\n",
      "2024-11-15 -0.012891  0.000276 -0.001774 -0.024114 -0.012767\n",
      "\n",
      "[2513 rows x 5 columns]\n"
     ]
    }
   ],
   "source": [
    "log_returns = np.log(adj_close_df/adj_close_df.shift(1)) # .shift(1) means the stock price of the previous date\n",
    "log_return = log_returns.dropna() # Remove NAs\n",
    "\n",
    "print(log_returns)\n"
   ]
  },
  {
   "cell_type": "markdown",
   "metadata": {},
   "source": [
    "### Create an equally weighted portfolio\n",
    "In this case we have 5 securities, therefore, the weight of each security would be 20%"
   ]
  },
  {
   "cell_type": "code",
   "execution_count": 89,
   "metadata": {},
   "outputs": [
    {
     "name": "stdout",
     "output_type": "stream",
     "text": [
      "[0.2 0.2 0.2 0.2 0.2]\n"
     ]
    }
   ],
   "source": [
    "portfolio_value = 1000000 # assume we have USD 1 million \n",
    "weights = np.array([1/len(tickers)]*len(tickers))\n",
    "\n",
    "print(weights)"
   ]
  },
  {
   "cell_type": "markdown",
   "metadata": {},
   "source": [
    "### Calculate the historical portofolio returns"
   ]
  },
  {
   "cell_type": "code",
   "execution_count": 90,
   "metadata": {},
   "outputs": [
    {
     "name": "stdout",
     "output_type": "stream",
     "text": [
      "Date\n",
      "2014-11-21    0.000000\n",
      "2014-11-24    0.002384\n",
      "2014-11-25    0.000955\n",
      "2014-11-26    0.002162\n",
      "2014-11-28   -0.005240\n",
      "                ...   \n",
      "2024-11-11   -0.004501\n",
      "2024-11-12   -0.004716\n",
      "2024-11-13   -0.002364\n",
      "2024-11-14   -0.004747\n",
      "2024-11-15   -0.010254\n",
      "Length: 2513, dtype: float64\n"
     ]
    }
   ],
   "source": [
    "historical_returns = (log_returns * weights).sum(axis=1)\n",
    "print(historical_returns)"
   ]
  },
  {
   "cell_type": "markdown",
   "metadata": {},
   "source": [
    "### Find the X-day historical returns\n",
    "X-day refers to any number of dates we can specify to the cumulative return."
   ]
  },
  {
   "cell_type": "code",
   "execution_count": 91,
   "metadata": {},
   "outputs": [
    {
     "name": "stdout",
     "output_type": "stream",
     "text": [
      "Date\n",
      "2014-11-28    0.000262\n",
      "2014-12-01    0.002414\n",
      "2014-12-02    0.000441\n",
      "2014-12-03    0.003526\n",
      "2014-12-04    0.000368\n",
      "                ...   \n",
      "2024-11-11    0.023664\n",
      "2024-11-12    0.010539\n",
      "2024-11-13    0.000207\n",
      "2024-11-14   -0.015273\n",
      "2024-11-15   -0.026582\n",
      "Length: 2509, dtype: float64\n"
     ]
    }
   ],
   "source": [
    "days = 5 # in this case we calculate the cumulative return over each 5-day window.\n",
    "\n",
    "range_returns = historical_returns.rolling(window = days).sum()\n",
    "range_returns = range_returns.dropna()\n",
    "print(range_returns)"
   ]
  },
  {
   "cell_type": "markdown",
   "metadata": {},
   "source": [
    "## Specify a confidence interval and calculate the Value at Risk (VaR) using historical method."
   ]
  },
  {
   "cell_type": "code",
   "execution_count": 92,
   "metadata": {},
   "outputs": [
    {
     "name": "stdout",
     "output_type": "stream",
     "text": [
      "23935.722876458985\n"
     ]
    }
   ],
   "source": [
    "confidence_interval = 0.95 # 95%\n",
    "\n",
    "VaR = -np.percentile(range_returns, 100 - (confidence_interval * 100))*portfolio_value\n",
    "print(VaR)"
   ]
  },
  {
   "cell_type": "markdown",
   "metadata": {},
   "source": [
    "## Plot the reuslts of the histrorical returns      "
   ]
  },
  {
   "cell_type": "code",
   "execution_count": 93,
   "metadata": {},
   "outputs": [
    {
     "data": {
      "image/png": "[encoded data removed]",
      "text/plain": [
       "<Figure size 640x480 with 1 Axes>"
      ]
     },
     "metadata": {},
     "output_type": "display_data"
    }
   ],
   "source": [
    "return_window = days\n",
    "range_returns = historical_returns.rolling(window = return_window).sum()\n",
    "range_returns = range_returns.dropna()\n",
    "\n",
    "range_returns_dollar = range_returns * portfolio_value \n",
    "\n",
    "plt.hist(range_returns_dollar.dropna(), bins=50, density = True)\n",
    "plt.xlabel(f'{return_window}-Day Portfolio Return (USD)')\n",
    "plt.ylabel('Frequency')\n",
    "plt.title(f'Distribution of Portfolio {return_window}-Day Returns (USD)')\n",
    "plt.axvline(-VaR, color='r', linestyle='dashed', linewidth=2, label=f'VaR at {confidence_interval:.0%} confidence level')\n",
    "plt.legend()\n",
    "plt.show()\n"
   ]
  },
  {
   "cell_type": "markdown",
   "metadata": {},
   "source": [
    "## Parametric Method\n",
    "we utilise the same codes till find the X-day"
   ]
  },
  {
   "cell_type": "markdown",
   "metadata": {},
   "source": [
    "### Create a covariance matrix for all the securities"
   ]
  },
  {
   "cell_type": "code",
   "execution_count": 94,
   "metadata": {},
   "outputs": [],
   "source": [
    "cov_matrix = log_returns.cov() * 252 # 252 trading days a year\n"
   ]
  },
  {
   "cell_type": "markdown",
   "metadata": {},
   "source": [
    "### Caluculate the portfolio standard deviation"
   ]
  },
  {
   "cell_type": "code",
   "execution_count": 95,
   "metadata": {},
   "outputs": [],
   "source": [
    "portfolio_std_dev = np.sqrt(weights.T @ cov_matrix @ weights)"
   ]
  },
  {
   "cell_type": "markdown",
   "metadata": {},
   "source": [
    "### Set different confidence levels to visualise"
   ]
  },
  {
   "cell_type": "code",
   "execution_count": 96,
   "metadata": {},
   "outputs": [],
   "source": [
    "confidence_levels = [0.9, 0.95, 0.99] # 90%, 95%, 99%"
   ]
  },
  {
   "cell_type": "markdown",
   "metadata": {},
   "source": [
    "### Calculate VaR at different confidence levels"
   ]
  },
  {
   "cell_type": "code",
   "execution_count": 97,
   "metadata": {},
   "outputs": [],
   "source": [
    "from scipy.stats import norm # \n",
    "\n",
    "VaRs = []  # create an empty list to store Value at Risk\n",
    "\n",
    "for cl in confidence_levels:\n",
    "    VaR = portfolio_value * portfolio_std_dev * norm.ppf(cl) * np.sqrt(days/252)\n",
    "    VaRs.append(VaR)"
   ]
  },
  {
   "cell_type": "markdown",
   "metadata": {},
   "source": [
    "### Print out the VaR results"
   ]
  },
  {
   "cell_type": "code",
   "execution_count": 98,
   "metadata": {},
   "outputs": [
    {
     "name": "stdout",
     "output_type": "stream",
     "text": [
      "Confidence Level     Value at Risk       \n",
      "----------------------------------------\n",
      "    90%:          $ 21,770.32\n",
      "    95%:          $ 27,941.91\n",
      "    99%:          $ 39,518.77\n"
     ]
    }
   ],
   "source": [
    "print(f'{\"Confidence Level\":<20} {\"Value at Risk\":<20}')\n",
    "print('-' * 40)\n",
    "\n",
    "# print each confidence level and its corresponding VaR value\n",
    "for cl, VaR in zip(confidence_levels, VaRs):\n",
    "    print(f'{cl * 100:>6.0f}%: {\"\":<8} ${VaR:>10,.2f}')"
   ]
  },
  {
   "cell_type": "markdown",
   "metadata": {},
   "source": [
    "## Plot the reuslts of the portfolio returns      "
   ]
  },
  {
   "cell_type": "code",
   "execution_count": 99,
   "metadata": {},
   "outputs": [
    {
     "data": {
      "image/png": "[encoded data removed]",
      "text/plain": [
       "<Figure size 640x480 with 1 Axes>"
      ]
     },
     "metadata": {},
     "output_type": "display_data"
    }
   ],
   "source": [
    "# Convert returns to dollar value for the histogram\n",
    "historical_x_day_return = range_returns * portfolio_value\n",
    "\n",
    "# Plot the histogram\n",
    "plt.hist(historical_x_day_return, bins=50, density=True, alpha=0.5, label=f'{days}-Day Returns')\n",
    "\n",
    "# Define the color of axvline\n",
    "colors = ['r', 'b', 'g'] \n",
    "\n",
    "# Add vertical lines representing VaRat each confidence level\n",
    "for cl, VaR, color in zip(confidence_levels, VaRs, colors):\n",
    "    plt.axvline(x=-VaR, linestyle='--', color=color, label=f'VaR at {int(cl * 100)}% Confidence')\n",
    "\n",
    "# Settings of the graph\n",
    "plt.xlabel(f'{days}-Day Portfolio Return ($)')\n",
    "plt.ylabel('Frequency')\n",
    "plt.title(f'Distribution of Portfolio {days}-Day Returns and Parametric VaR Estimates')\n",
    "plt.legend()\n",
    "plt.show()"
   ]
  },
  {
   "cell_type": "markdown",
   "metadata": {},
   "source": [
    "## Monte Carlo Method"
   ]
  },
  {
   "cell_type": "markdown",
   "metadata": {},
   "source": [
    "### Create a function that will be used to calculate portfolio expected return\n",
    "We are assuming that future returns are based on past returns, which is not a reliable assumption."
   ]
  },
  {
   "cell_type": "code",
   "execution_count": 100,
   "metadata": {},
   "outputs": [],
   "source": [
    "def expected_return(weights, log_returns):\n",
    "    return np.sum(log_returns.mean()*weights)"
   ]
  },
  {
   "cell_type": "markdown",
   "metadata": {},
   "source": [
    "### Create a function that will be used to calculate portfolio standard deviation"
   ]
  },
  {
   "cell_type": "code",
   "execution_count": 101,
   "metadata": {},
   "outputs": [],
   "source": [
    "def standard_deviation (weights, cov_matrix):\n",
    "    variance = weights. T @ cov_matrix @ weights\n",
    "    return np.sqrt(variance)"
   ]
  },
  {
   "cell_type": "markdown",
   "metadata": {},
   "source": [
    "### Create a covariance matrix for all the securities\n"
   ]
  },
  {
   "cell_type": "code",
   "execution_count": 102,
   "metadata": {},
   "outputs": [
    {
     "name": "stdout",
     "output_type": "stream",
     "text": [
      "          SPY       BND       GLD       QQQ       VTI\n",
      "SPY  0.000124  0.000004  0.000004  0.000143  0.000126\n",
      "BND  0.000004  0.000012  0.000011  0.000005  0.000004\n",
      "GLD  0.000004  0.000011  0.000080  0.000006  0.000005\n",
      "QQQ  0.000143  0.000005  0.000006  0.000190  0.000145\n",
      "VTI  0.000126  0.000004  0.000005  0.000145  0.000129\n"
     ]
    }
   ],
   "source": [
    "cov_matrix = log_returns.cov()\n",
    "print(cov_matrix)"
   ]
  },
  {
   "cell_type": "markdown",
   "metadata": {},
   "source": [
    "### Calculate the portfolio expected return and standarddeviation"
   ]
  },
  {
   "cell_type": "code",
   "execution_count": 103,
   "metadata": {},
   "outputs": [
    {
     "name": "stdout",
     "output_type": "stream",
     "text": [
      "Expected Portfolio Return: 0.0003905210211885186\n",
      "Portfolio Standard Deviation: 0.0075970290438542734\n"
     ]
    }
   ],
   "source": [
    "portfolio_expected_return = expected_return(weights, log_returns)\n",
    "portfolio_std_dev = standard_deviation(weights, cov_matrix)\n",
    "\n",
    "print(f'Expected Portfolio Return: {portfolio_expected_return}')\n",
    "print(f'Portfolio Standard Deviation: {portfolio_std_dev}')\n"
   ]
  },
  {
   "cell_type": "markdown",
   "metadata": {},
   "source": [
    "### Create a function that gives a random Z-score based on normal distribution"
   ]
  },
  {
   "cell_type": "code",
   "execution_count": 104,
   "metadata": {},
   "outputs": [],
   "source": [
    "def random_z_score():\n",
    "    return np.random.normal(0,1)"
   ]
  },
  {
   "cell_type": "markdown",
   "metadata": {},
   "source": [
    "### Create a function to calculate scenarioGainLoss"
   ]
  },
  {
   "cell_type": "code",
   "execution_count": 105,
   "metadata": {},
   "outputs": [],
   "source": [
    "days = 5\n",
    "\n",
    "def scenario_gain_loss(portfolio_value, portfolio_std_dev, z_score, days):\n",
    "    return portfolio_value * portfolio_expected_return * days + portfolio_value * portfolio_std_dev * z_score * np.sqrt(days)"
   ]
  },
  {
   "cell_type": "markdown",
   "metadata": {},
   "source": [
    "### Run 10,000 simulations"
   ]
  },
  {
   "cell_type": "code",
   "execution_count": 106,
   "metadata": {},
   "outputs": [],
   "source": [
    "simulations = 10000\n",
    "scenarioReturn = []\n",
    "\n",
    "for i in range(simulations):\n",
    "    z_score = random_z_score()\n",
    "    scenarioReturn.append(scenario_gain_loss(portfolio_value, portfolio_std_dev, z_score, days))"
   ]
  },
  {
   "cell_type": "markdown",
   "metadata": {},
   "source": [
    "### Specify a confidence interval and calculate the Value at Risk"
   ]
  },
  {
   "cell_type": "code",
   "execution_count": 107,
   "metadata": {},
   "outputs": [
    {
     "name": "stdout",
     "output_type": "stream",
     "text": [
      "25621.429726680126\n"
     ]
    }
   ],
   "source": [
    "confidence_interval = 0.95\n",
    "VaR = -np.percentile(scenarioReturn, 100 * (1 - confidence_interval))\n",
    "print(VaR)"
   ]
  },
  {
   "cell_type": "markdown",
   "metadata": {},
   "source": [
    "### plot the results of 10,000 scenarios"
   ]
  },
  {
   "cell_type": "code",
   "execution_count": 108,
   "metadata": {},
   "outputs": [
    {
     "data": {
      "image/png": "[encoded data removed]",
      "text/plain": [
       "<Figure size 640x480 with 1 Axes>"
      ]
     },
     "metadata": {},
     "output_type": "display_data"
    }
   ],
   "source": [
    "plt.hist(scenarioReturn, bins=50, density=True)\n",
    "plt.xlabel('Scenario Gain/Loss ($)')\n",
    "plt.ylabel('Frequency')\n",
    "plt.title(f'Distribution of Portfolio Gain/Loss Over {days} days')\n",
    "plt.axvline(-VaR, color='r', linestyle=\"dashed\", linewidth=2, label=f'VaR at {confidence_interval:.0%} confidence level')\n",
    "plt.legend()\n",
    "plt.show()"
   ]
  }
 ],
 "metadata": {
  "kernelspec": {
   "display_name": "Python 3",
   "language": "python",
   "name": "python3"
  },
  "language_info": {
   "codemirror_mode": {
    "name": "ipython",
    "version": 3
   },
   "file_extension": ".py",
   "mimetype": "text/x-python",
   "name": "python",
   "nbconvert_exporter": "python",
   "pygments_lexer": "ipython3",
   "version": "3.12.7"
  }
 },
 "nbformat": 4,
 "nbformat_minor": 2
}
